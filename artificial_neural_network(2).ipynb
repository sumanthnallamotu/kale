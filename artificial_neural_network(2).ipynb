{
 "cells": [
  {
   "cell_type": "markdown",
   "metadata": {
    "colab_type": "text",
    "id": "lP6JLo1tGNBg",
    "tags": []
   },
   "source": [
    "# Artificial Neural Network"
   ]
  },
  {
   "cell_type": "markdown",
   "metadata": {
    "colab_type": "text",
    "id": "gWZyYmS_UE_L",
    "tags": []
   },
   "source": [
    "### imports step"
   ]
  },
  {
   "cell_type": "code",
   "execution_count": 8,
   "metadata": {
    "tags": [
     "imports"
    ]
   },
   "outputs": [],
   "source": [
    "import numpy as np\n",
    "import matplotlib.pyplot as plt\n",
    "import pandas as pd\n",
    "import tensorflow as tf\n",
    "\n",
    "from sklearn.preprocessing import LabelEncoder\n",
    "\n",
    "from sklearn.compose import ColumnTransformer\n",
    "from sklearn.preprocessing import OneHotEncoder\n",
    "\n",
    "from sklearn.model_selection import train_test_split\n",
    "\n",
    "from sklearn.preprocessing import StandardScaler\n",
    "\n",
    "from sklearn.metrics import confusion_matrix, accuracy_score"
   ]
  },
  {
   "cell_type": "code",
   "execution_count": 9,
   "metadata": {
    "tags": [
     "pipeline-parameters"
    ]
   },
   "outputs": [],
   "source": [
    "target = \"https://raw.githubusercontent.com/sumanthnallamotu/kale/master/Churn_Modeling.csv\""
   ]
  },
  {
   "cell_type": "markdown",
   "metadata": {
    "colab_type": "text",
    "id": "cKWAkFVGUU0Z",
    "tags": []
   },
   "source": [
    "### functions step"
   ]
  },
  {
   "cell_type": "code",
   "execution_count": 10,
   "metadata": {
    "tags": [
     "functions"
    ]
   },
   "outputs": [],
   "source": [
    "# Defining the functions that will be used to create and train the model\n",
    "def load_data(url):\n",
    "    dataset = pd.read_csv(url, error_bad_lines=False)\n",
    "    return dataset\n",
    "\n",
    "def encode_gender(toChange, index1, index2):\n",
    "    le = LabelEncoder()\n",
    "    toChange[:,index1] = le.fit_transform(toChange[:,index2])\n",
    "    \n",
    "    return toChange\n",
    "\n",
    "\n",
    "def encode_geo(toChange, num):\n",
    "    ct = ColumnTransformer(transformers=[('encoder', OneHotEncoder(), [num])], remainder='passthrough')\n",
    "    toChange = np.array(ct.fit_transform(toChange))\n",
    "    \n",
    "    return toChange\n",
    "\n",
    "\n",
    "def split_data(x, y, testSize, randomState):\n",
    "    x_train, x_test, y_train, y_test = train_test_split(x, y, test_size=testSize, random_state=randomState)\n",
    "    return [x_train, x_test, y_train, y_test]\n",
    "\n",
    "\n",
    "def feature_scale(train, test):\n",
    "    sc = StandardScaler()\n",
    "    x_train = sc.fit_transform(train)\n",
    "    x_test = sc.fit_transform(test)\n",
    "    \n",
    "    return [x_train, x_test, sc]\n",
    "\n",
    "\n",
    "def build_ann(unit1, actFunc, unit2, actFunc2, opt, lossFunc, metric):\n",
    "    ann = tf.keras.models.Sequential()\n",
    "    ann.add(tf.keras.layers.Dense(units=unit1, activation=actFunc))\n",
    "    ann.add(tf.keras.layers.Dense(units=unit1, activation=actFunc))\n",
    "    ann.add(tf.keras.layers.Dense(units=unit2, activation=actFunc2))\n",
    "    ann.compile(optimizer=opt,loss=lossFunc, metrics=metric)\n",
    "    \n",
    "    return ann\n",
    "\n",
    "def confMat(x, y):\n",
    "    cm = confusion_matrix(x, y)\n",
    "    return cm"
   ]
  },
  {
   "cell_type": "markdown",
   "metadata": {
    "tags": []
   },
   "source": [
    "### load_data step"
   ]
  },
  {
   "cell_type": "code",
   "execution_count": 11,
   "metadata": {
    "tags": [
     "block:load_data"
    ]
   },
   "outputs": [],
   "source": [
    "dataset = load_data(target)\n",
    "x = dataset.iloc[:, 3:-1].values\n",
    "y = dataset.iloc[:, -1].values"
   ]
  },
  {
   "cell_type": "markdown",
   "metadata": {
    "colab_type": "text",
    "id": "N6bQ0UgSU-NJ",
    "tags": []
   },
   "source": [
    "### encoding_data step"
   ]
  },
  {
   "cell_type": "code",
   "execution_count": 12,
   "metadata": {
    "tags": [
     "block:encode_data",
     "prev:load_data"
    ]
   },
   "outputs": [],
   "source": [
    "# Encode categorical data\n",
    "xNew = encode_gender(x, 2, 2)\n",
    "xFinal = encode_geo(xNew, 1)"
   ]
  },
  {
   "cell_type": "markdown",
   "metadata": {
    "colab_type": "text",
    "id": "vHol938cW8zd",
    "tags": []
   },
   "source": [
    "### split_data step"
   ]
  },
  {
   "cell_type": "code",
   "execution_count": 13,
   "metadata": {
    "tags": [
     "block:split_data",
     "prev:encode_data"
    ]
   },
   "outputs": [],
   "source": [
    "# Split the dataset into the training and test sets and then feature scale them\n",
    "x_train, x_test, y_train, y_test = split_data(xFinal, y, 0.2, 0)\n",
    "x_train, x_test, sc = feature_scale(x_train, x_test)"
   ]
  },
  {
   "cell_type": "markdown",
   "metadata": {
    "colab_type": "text",
    "id": "-zfEzkRVXIwF",
    "tags": []
   },
   "source": [
    "## build_ann step"
   ]
  },
  {
   "cell_type": "code",
   "execution_count": 15,
   "metadata": {
    "tags": [
     "block:build_test",
     "prev:split_data"
    ]
   },
   "outputs": [
    {
     "name": "stdout",
     "output_type": "stream",
     "text": [
      "Epoch 1/101\n",
      "250/250 [==============================] - 0s 1ms/step - loss: 0.5968 - accuracy: 0.7570\n",
      "Epoch 2/101\n",
      "250/250 [==============================] - 0s 1ms/step - loss: 0.5030 - accuracy: 0.7960\n",
      "Epoch 3/101\n",
      "250/250 [==============================] - 0s 1ms/step - loss: 0.4645 - accuracy: 0.7960\n",
      "Epoch 4/101\n",
      "250/250 [==============================] - 0s 1ms/step - loss: 0.4446 - accuracy: 0.7960\n",
      "Epoch 5/101\n",
      "250/250 [==============================] - 0s 1ms/step - loss: 0.4350 - accuracy: 0.7960\n",
      "Epoch 6/101\n",
      "250/250 [==============================] - 0s 1ms/step - loss: 0.4306 - accuracy: 0.7960\n",
      "Epoch 7/101\n",
      "250/250 [==============================] - 0s 2ms/step - loss: 0.4270 - accuracy: 0.7960\n",
      "Epoch 8/101\n",
      "250/250 [==============================] - 0s 1ms/step - loss: 0.4238 - accuracy: 0.7960\n",
      "Epoch 9/101\n",
      "250/250 [==============================] - 0s 1ms/step - loss: 0.4206 - accuracy: 0.7960\n",
      "Epoch 10/101\n",
      "250/250 [==============================] - 0s 1ms/step - loss: 0.4167 - accuracy: 0.7960\n",
      "Epoch 11/101\n",
      "250/250 [==============================] - 0s 1ms/step - loss: 0.4130 - accuracy: 0.7960\n",
      "Epoch 12/101\n",
      "250/250 [==============================] - 0s 2ms/step - loss: 0.4086 - accuracy: 0.8066\n",
      "Epoch 13/101\n",
      "250/250 [==============================] - 0s 1ms/step - loss: 0.4028 - accuracy: 0.8080\n",
      "Epoch 14/101\n",
      "250/250 [==============================] - 0s 1ms/step - loss: 0.3950 - accuracy: 0.8257\n",
      "Epoch 15/101\n",
      "250/250 [==============================] - 0s 1ms/step - loss: 0.3866 - accuracy: 0.8366\n",
      "Epoch 16/101\n",
      "250/250 [==============================] - 0s 1ms/step - loss: 0.3781 - accuracy: 0.8441\n",
      "Epoch 17/101\n",
      "250/250 [==============================] - 0s 1ms/step - loss: 0.3709 - accuracy: 0.8494\n",
      "Epoch 18/101\n",
      "250/250 [==============================] - 0s 1ms/step - loss: 0.3660 - accuracy: 0.8501\n",
      "Epoch 19/101\n",
      "250/250 [==============================] - 0s 1ms/step - loss: 0.3621 - accuracy: 0.8539\n",
      "Epoch 20/101\n",
      "250/250 [==============================] - 0s 1ms/step - loss: 0.3593 - accuracy: 0.8568\n",
      "Epoch 21/101\n",
      "250/250 [==============================] - 0s 1ms/step - loss: 0.3575 - accuracy: 0.8568\n",
      "Epoch 22/101\n",
      "250/250 [==============================] - 0s 1ms/step - loss: 0.3556 - accuracy: 0.8590\n",
      "Epoch 23/101\n",
      "250/250 [==============================] - 0s 1ms/step - loss: 0.3542 - accuracy: 0.8596\n",
      "Epoch 24/101\n",
      "250/250 [==============================] - 0s 2ms/step - loss: 0.3532 - accuracy: 0.8605\n",
      "Epoch 25/101\n",
      "250/250 [==============================] - 0s 1ms/step - loss: 0.3516 - accuracy: 0.8606\n",
      "Epoch 26/101\n",
      "250/250 [==============================] - 0s 2ms/step - loss: 0.3507 - accuracy: 0.8612\n",
      "Epoch 27/101\n",
      "250/250 [==============================] - 0s 1ms/step - loss: 0.3500 - accuracy: 0.8612\n",
      "Epoch 28/101\n",
      "250/250 [==============================] - 0s 1ms/step - loss: 0.3494 - accuracy: 0.8600\n",
      "Epoch 29/101\n",
      "250/250 [==============================] - 0s 1ms/step - loss: 0.3486 - accuracy: 0.8615\n",
      "Epoch 30/101\n",
      "250/250 [==============================] - 0s 1ms/step - loss: 0.3480 - accuracy: 0.8605\n",
      "Epoch 31/101\n",
      "250/250 [==============================] - 0s 1ms/step - loss: 0.3477 - accuracy: 0.8614\n",
      "Epoch 32/101\n",
      "250/250 [==============================] - 0s 2ms/step - loss: 0.3470 - accuracy: 0.8608\n",
      "Epoch 33/101\n",
      "250/250 [==============================] - 0s 1ms/step - loss: 0.3464 - accuracy: 0.8604\n",
      "Epoch 34/101\n",
      "250/250 [==============================] - 0s 1ms/step - loss: 0.3462 - accuracy: 0.8611\n",
      "Epoch 35/101\n",
      "250/250 [==============================] - 0s 1ms/step - loss: 0.3458 - accuracy: 0.8606\n",
      "Epoch 36/101\n",
      "250/250 [==============================] - 0s 1ms/step - loss: 0.3451 - accuracy: 0.8602\n",
      "Epoch 37/101\n",
      "250/250 [==============================] - 0s 1ms/step - loss: 0.3449 - accuracy: 0.8614\n",
      "Epoch 38/101\n",
      "250/250 [==============================] - 0s 1ms/step - loss: 0.3445 - accuracy: 0.8608\n",
      "Epoch 39/101\n",
      "250/250 [==============================] - 0s 1ms/step - loss: 0.3440 - accuracy: 0.8620\n",
      "Epoch 40/101\n",
      "250/250 [==============================] - 0s 1ms/step - loss: 0.3436 - accuracy: 0.8609\n",
      "Epoch 41/101\n",
      "250/250 [==============================] - 0s 1ms/step - loss: 0.3435 - accuracy: 0.8614\n",
      "Epoch 42/101\n",
      "250/250 [==============================] - 0s 2ms/step - loss: 0.3430 - accuracy: 0.8620\n",
      "Epoch 43/101\n",
      "250/250 [==============================] - 0s 1ms/step - loss: 0.3428 - accuracy: 0.8610\n",
      "Epoch 44/101\n",
      "250/250 [==============================] - 0s 1ms/step - loss: 0.3427 - accuracy: 0.8612\n",
      "Epoch 45/101\n",
      "250/250 [==============================] - 0s 1ms/step - loss: 0.3423 - accuracy: 0.8610\n",
      "Epoch 46/101\n",
      "250/250 [==============================] - 0s 1ms/step - loss: 0.3422 - accuracy: 0.8601\n",
      "Epoch 47/101\n",
      "250/250 [==============================] - 0s 1ms/step - loss: 0.3421 - accuracy: 0.8616\n",
      "Epoch 48/101\n",
      "250/250 [==============================] - 0s 1ms/step - loss: 0.3422 - accuracy: 0.8601\n",
      "Epoch 49/101\n",
      "250/250 [==============================] - 0s 2ms/step - loss: 0.3414 - accuracy: 0.8621\n",
      "Epoch 50/101\n",
      "250/250 [==============================] - 0s 1ms/step - loss: 0.3413 - accuracy: 0.8611\n",
      "Epoch 51/101\n",
      "250/250 [==============================] - 0s 1ms/step - loss: 0.3408 - accuracy: 0.8608\n",
      "Epoch 52/101\n",
      "250/250 [==============================] - 0s 1ms/step - loss: 0.3409 - accuracy: 0.8615\n",
      "Epoch 53/101\n",
      "250/250 [==============================] - 0s 1ms/step - loss: 0.3410 - accuracy: 0.8612\n",
      "Epoch 54/101\n",
      "250/250 [==============================] - 0s 1ms/step - loss: 0.3407 - accuracy: 0.8611\n",
      "Epoch 55/101\n",
      "250/250 [==============================] - 0s 1ms/step - loss: 0.3403 - accuracy: 0.8619\n",
      "Epoch 56/101\n",
      "250/250 [==============================] - 0s 1ms/step - loss: 0.3402 - accuracy: 0.8608\n",
      "Epoch 57/101\n",
      "250/250 [==============================] - 0s 1ms/step - loss: 0.3402 - accuracy: 0.8622\n",
      "Epoch 58/101\n",
      "250/250 [==============================] - 0s 1ms/step - loss: 0.3399 - accuracy: 0.8619\n",
      "Epoch 59/101\n",
      "250/250 [==============================] - 0s 1ms/step - loss: 0.3399 - accuracy: 0.8614\n",
      "Epoch 60/101\n",
      "250/250 [==============================] - 0s 1ms/step - loss: 0.3396 - accuracy: 0.8601\n",
      "Epoch 61/101\n",
      "250/250 [==============================] - 0s 1ms/step - loss: 0.3396 - accuracy: 0.8610\n",
      "Epoch 62/101\n",
      "250/250 [==============================] - 0s 1ms/step - loss: 0.3394 - accuracy: 0.8608\n",
      "Epoch 63/101\n",
      "250/250 [==============================] - 0s 1ms/step - loss: 0.3394 - accuracy: 0.8622\n",
      "Epoch 64/101\n",
      "250/250 [==============================] - 0s 1ms/step - loss: 0.3387 - accuracy: 0.8622\n",
      "Epoch 65/101\n",
      "250/250 [==============================] - 0s 1ms/step - loss: 0.3389 - accuracy: 0.8609\n",
      "Epoch 66/101\n",
      "250/250 [==============================] - 0s 1ms/step - loss: 0.3388 - accuracy: 0.8621\n",
      "Epoch 67/101\n",
      "250/250 [==============================] - 0s 1ms/step - loss: 0.3389 - accuracy: 0.8624\n",
      "Epoch 68/101\n",
      "250/250 [==============================] - 0s 1ms/step - loss: 0.3383 - accuracy: 0.8611\n",
      "Epoch 69/101\n",
      "250/250 [==============================] - 0s 1ms/step - loss: 0.3380 - accuracy: 0.8618\n",
      "Epoch 70/101\n",
      "250/250 [==============================] - 0s 1ms/step - loss: 0.3381 - accuracy: 0.8618\n",
      "Epoch 71/101\n",
      "250/250 [==============================] - 0s 1ms/step - loss: 0.3381 - accuracy: 0.8625\n",
      "Epoch 72/101\n",
      "250/250 [==============================] - 0s 1ms/step - loss: 0.3379 - accuracy: 0.8619\n",
      "Epoch 73/101\n",
      "250/250 [==============================] - 0s 1ms/step - loss: 0.3377 - accuracy: 0.8630\n",
      "Epoch 74/101\n",
      "250/250 [==============================] - 0s 1ms/step - loss: 0.3376 - accuracy: 0.8614\n",
      "Epoch 75/101\n",
      "250/250 [==============================] - 0s 1ms/step - loss: 0.3378 - accuracy: 0.8626\n",
      "Epoch 76/101\n",
      "250/250 [==============================] - 0s 1ms/step - loss: 0.3374 - accuracy: 0.8621\n",
      "Epoch 77/101\n",
      "250/250 [==============================] - 0s 1ms/step - loss: 0.3372 - accuracy: 0.8631\n",
      "Epoch 78/101\n",
      "250/250 [==============================] - 0s 1ms/step - loss: 0.3368 - accuracy: 0.8643\n",
      "Epoch 79/101\n",
      "250/250 [==============================] - 0s 1ms/step - loss: 0.3368 - accuracy: 0.8631\n",
      "Epoch 80/101\n",
      "250/250 [==============================] - 0s 1ms/step - loss: 0.3366 - accuracy: 0.8636\n",
      "Epoch 81/101\n",
      "250/250 [==============================] - 0s 1ms/step - loss: 0.3362 - accuracy: 0.8627\n",
      "Epoch 82/101\n",
      "250/250 [==============================] - 0s 1ms/step - loss: 0.3366 - accuracy: 0.8643\n",
      "Epoch 83/101\n",
      "250/250 [==============================] - 0s 1ms/step - loss: 0.3361 - accuracy: 0.8636\n",
      "Epoch 84/101\n",
      "250/250 [==============================] - 0s 2ms/step - loss: 0.3358 - accuracy: 0.8633\n",
      "Epoch 85/101\n",
      "250/250 [==============================] - 0s 1ms/step - loss: 0.3358 - accuracy: 0.8636\n",
      "Epoch 86/101\n",
      "250/250 [==============================] - 0s 1ms/step - loss: 0.3360 - accuracy: 0.8636\n",
      "Epoch 87/101\n",
      "250/250 [==============================] - 0s 1ms/step - loss: 0.3360 - accuracy: 0.8640\n",
      "Epoch 88/101\n",
      "250/250 [==============================] - 0s 1ms/step - loss: 0.3354 - accuracy: 0.8629\n",
      "Epoch 89/101\n",
      "250/250 [==============================] - 0s 1ms/step - loss: 0.3355 - accuracy: 0.8640\n",
      "Epoch 90/101\n",
      "250/250 [==============================] - 0s 1ms/step - loss: 0.3356 - accuracy: 0.8639\n",
      "Epoch 91/101\n",
      "250/250 [==============================] - 0s 1ms/step - loss: 0.3350 - accuracy: 0.8627\n",
      "Epoch 92/101\n",
      "250/250 [==============================] - 0s 1ms/step - loss: 0.3353 - accuracy: 0.8646\n",
      "Epoch 93/101\n",
      "250/250 [==============================] - 0s 1ms/step - loss: 0.3351 - accuracy: 0.8644\n",
      "Epoch 94/101\n",
      "250/250 [==============================] - 0s 1ms/step - loss: 0.3348 - accuracy: 0.8646\n",
      "Epoch 95/101\n",
      "250/250 [==============================] - 0s 1ms/step - loss: 0.3353 - accuracy: 0.8643\n",
      "Epoch 96/101\n",
      "250/250 [==============================] - 0s 1ms/step - loss: 0.3350 - accuracy: 0.8627\n",
      "Epoch 97/101\n",
      "250/250 [==============================] - 0s 2ms/step - loss: 0.3350 - accuracy: 0.8649\n",
      "Epoch 98/101\n",
      "250/250 [==============================] - 0s 1ms/step - loss: 0.3349 - accuracy: 0.8640\n",
      "Epoch 99/101\n",
      "250/250 [==============================] - 0s 1ms/step - loss: 0.3349 - accuracy: 0.8639\n",
      "Epoch 100/101\n",
      "250/250 [==============================] - 0s 1ms/step - loss: 0.3346 - accuracy: 0.8639\n",
      "Epoch 101/101\n",
      "250/250 [==============================] - 0s 1ms/step - loss: 0.3350 - accuracy: 0.8633\n",
      "[[1525   70]\n",
      " [ 202  203]]\n"
     ]
    },
    {
     "data": {
      "text/plain": [
       "0.864"
      ]
     },
     "execution_count": 15,
     "metadata": {},
     "output_type": "execute_result"
    }
   ],
   "source": [
    "# Build and train the model\n",
    "ann = build_ann(5, 'relu', 1, 'sigmoid', 'adam', 'binary_crossentropy', 'accuracy')\n",
    "\n",
    "ann.fit(x_train, y_train, batch_size = 32, epochs = 20)\n",
    "\n",
    "y_pred = ann.predict(x_test)\n",
    "y_pred = (y_pred > 0.5)\n",
    "\n",
    "cm = confMat(y_test, y_pred)\n",
    "print(cm)\n",
    "accuracy_score(y_test, y_pred)"
   ]
  },
  {
   "cell_type": "code",
   "execution_count": null,
   "metadata": {},
   "outputs": [],
   "source": []
  }
 ],
 "metadata": {
  "colab": {
   "authorship_tag": "ABX9TyMeRFWFoGrdaL5S3dx5MWmb",
   "collapsed_sections": [],
   "name": "artificial_neural_network.ipynb",
   "provenance": [],
   "toc_visible": true
  },
  "kernelspec": {
   "display_name": "Python 3",
   "language": "python",
   "name": "python3"
  },
  "kubeflow_notebook": {
   "autosnapshot": true,
   "docker_image": "gcr.io/arrikto/jupyter-kale:v0.5.0-47-g2427cc9",
   "experiment": {
    "id": "new",
    "name": "ann2attempt1"
   },
   "experiment_name": "ann2attempt1",
   "katib_metadata": {
    "algorithm": {
     "algorithmName": "grid"
    },
    "maxFailedTrialCount": 3,
    "maxTrialCount": 12,
    "objective": {
     "objectiveMetricName": "",
     "type": "minimize"
    },
    "parallelTrialCount": 3,
    "parameters": []
   },
   "katib_run": false,
   "pipeline_description": "",
   "pipeline_name": "ann3",
   "snapshot_volumes": true,
   "steps_defaults": [
    "label:access-ml-pipeline:true",
    "label:access-rok:true"
   ],
   "volumes": [
    {
     "annotations": [],
     "mount_point": "/home/jovyan",
     "name": "workspace-pipeline-test-h5154ulq0",
     "size": 5,
     "size_type": "Gi",
     "snapshot": false,
     "type": "clone"
    }
   ]
  },
  "language_info": {
   "codemirror_mode": {
    "name": "ipython",
    "version": 3
   },
   "file_extension": ".py",
   "mimetype": "text/x-python",
   "name": "python",
   "nbconvert_exporter": "python",
   "pygments_lexer": "ipython3",
   "version": "3.6.9"
  }
 },
 "nbformat": 4,
 "nbformat_minor": 4
}
