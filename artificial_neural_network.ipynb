{
 "cells": [
  {
   "cell_type": "markdown",
   "metadata": {
    "colab_type": "text",
    "id": "lP6JLo1tGNBg",
    "tags": []
   },
   "source": [
    "# Artificial Neural Network"
   ]
  },
  {
   "cell_type": "markdown",
   "metadata": {
    "colab_type": "text",
    "id": "gWZyYmS_UE_L",
    "tags": []
   },
  },
  {
   "cell_type": "markdown",
   "metadata": {
    "colab_type": "text",
    "id": "1E0Q3aoKUCRX",
    "tags": []
   },
   "source": [
    "## Part 1 - Data Preprocessing"
   ]
  },
  {
   "cell_type": "code",
   "execution_count": 1,
   "metadata": {
    "tags": [
     "imports"
    ]
   },
   "outputs": [],
   "source": [
    "import numpy as np\n",
    "import matplotlib.pyplot as plt\n",
    "import pandas as pd\n",
    "import tensorflow as tf\n",
    "\n",
    "from sklearn.preprocessing import LabelEncoder\n",
    "\n",
    "from sklearn.compose import ColumnTransformer\n",
    "from sklearn.preprocessing import OneHotEncoder\n",
    "\n",
    "from sklearn.model_selection import train_test_split\n",
    "\n",
    "from sklearn.preprocessing import StandardScaler\n",
    "\n",
    "from sklearn.metrics import confusion_matrix, accuracy_score"
   ]
  },
  {
   "cell_type": "code",
   "execution_count": 2,
   "metadata": {
    "tags": [
     "skip"
    ]
   },
   "outputs": [
    {
     "data": {
      "text/plain": [
       "'2.2.0'"
      ]
     },
     "execution_count": 2,
     "metadata": {},
     "output_type": "execute_result"
    }
   ],
   "source": [
    "tf.__version__"
   ]
  },
  {
   "cell_type": "markdown",
   "metadata": {
    "colab_type": "text",
    "id": "cKWAkFVGUU0Z",
    "tags": []
   },
   "source": [
    "### Define Functions"
   ]
  },
  {
   "cell_type": "code",
   "execution_count": 3,
   "metadata": {
    "tags": [
     "functions"
    ]
   },
   "outputs": [],
   "source": [
    "def load_data(url):\n",
    "    if url != None:\n",
    "        dataset = pd.read_csv(url, error_bad_lines=False)\n",
    "    return dataset\n",
    "\n",
    "\n",
    "def encode_gender(toChange):\n",
    "    le = LabelEncoder()\n",
    "    toChange[:,2] = le.fit_transform(toChange[:,2])\n",
    "    \n",
    "    return toChange\n",
    "\n",
    "\n",
    "def encode_geo(toChange):\n",
    "    ct = ColumnTransformer(transformers=[('encoder', OneHotEncoder(), [1])], remainder='passthrough')\n",
    "    toChange = np.array(ct.fit_transform(toChange))\n",
    "    \n",
    "    return toChange\n",
    "\n",
    "\n",
    "def split_data(x, y, testSize, randomState):\n",
    "    x_train, x_test, y_train, y_test = train_test_split(x, y, test_size=testSize, random_state=randomState)\n",
    "    return [x_train, x_test, y_train, y_test]\n",
    "\n",
    "\n",
    "def feature_scale(train, test):\n",
    "    sc = StandardScaler()\n",
    "    x_train = sc.fit_transform(train)\n",
    "    x_test = sc.fit_transform(test)\n",
    "    \n",
    "    return [x_train, x_test]\n",
    "\n",
    "\n",
    "def build_ann(unit1, actFunc, unit2, actFunc2, opt, lossFunc, metric):\n",
    "    ann = tf.keras.models.Sequential()\n",
    "    ann.add(tf.keras.layers.Dense(units=unit1, activation=actFunc))\n",
    "    ann.add(tf.keras.layers.Dense(units=unit1, activation=actFunc))\n",
    "    ann.add(tf.keras.layers.Dense(units=unit2, activation=actFunc2))\n",
    "    ann.compile(optimizer = opt, loss = lossFunc, metrics = metric)\n",
    "    \n",
    "    return ann\n",
    "\n",
    "def confMat(x, y):\n",
    "    cm = confusion_matrix(y_test, y_pred)\n",
    "    return cm"
   ]
  },
  {
   "cell_type": "code",
   "execution_count": 10,
   "metadata": {
    "tags": [
     "block:load_data"
    ]
   },
   "outputs": [
    {
     "name": "stdout",
     "output_type": "stream",
     "text": [
      "[[619 'France' 'Female' ... 1 1 101348.88]\n",
      " [608 'Spain' 'Female' ... 0 1 112542.58]\n",
      " [502 'France' 'Female' ... 1 0 113931.57]\n",
      " ...\n",
      " [709 'France' 'Female' ... 0 1 42085.58]\n",
      " [772 'Germany' 'Male' ... 1 0 92888.52]\n",
      " [792 'France' 'Female' ... 1 0 38190.78]]\n",
      "[1 0 1 ... 1 1 0]\n"
     ]
    }
   ],
   "source": [
    "dataset = load_data(\"https://raw.githubusercontent.com/sumanthnallamotu/kale/master/Churn_Modeling.csv\")\n",
    "x = dataset.iloc[:,3:-1].values\n",
    "y = dataset.iloc[:,-1].values\n",
    "print(x)\n",
    "print(y)"
   ]
  },
  {
   "cell_type": "markdown",
   "metadata": {
    "colab_type": "text",
    "id": "N6bQ0UgSU-NJ",
    "tags": []
   },
   "source": [
    "### Encoding categorical data"
   ]
  },
  {
   "cell_type": "code",
   "execution_count": 5,
   "metadata": {
    "tags": [
     "block:encode_data",
     "prev:load_data"
    ]
   },
   "outputs": [],
   "source": [
    "# Encode categorical data\n",
    "x = encode_gender(x)\n",
    "x = encode_geo(x)"
   ]
  },
  {
   "cell_type": "markdown",
   "metadata": {
    "colab_type": "text",
    "id": "vHol938cW8zd",
    "tags": []
   },
   "source": [
    "### Splitting the dataset into the Training set and Test set"
   ]
  },
  {
   "cell_type": "code",
   "execution_count": 6,
   "metadata": {
    "tags": [
     "block:split_data",
     "prev:encode_data"
    ]
   },
   "outputs": [],
   "source": [
    "# Split the dataset into the training and test sets and then feature scale them\n",
    "x_train, x_test, y_train, y_test = split_data(x, y, 0.2, 0)\n",
    "x_train, x_test = feature_scale(x_train, x_test)"
   ]
  },
  {
   "cell_type": "markdown",
   "metadata": {
    "colab_type": "text",
    "id": "-zfEzkRVXIwF",
    "tags": []
   },
   "source": [
    "## Part 2 - Building the ANN"
   ]
  },
  {
   "cell_type": "code",
   "execution_count": 7,
   "metadata": {
    "tags": [
     "block:build_ann",
     "prev:split_data"
    ]
   },
   "outputs": [
    {
     "name": "stdout",
     "output_type": "stream",
     "text": [
      "Epoch 1/101\n",
      "250/250 [==============================] - 0s 1ms/step - loss: 0.4758 - accuracy: 0.7912\n",
      "Epoch 2/101\n",
      "250/250 [==============================] - 0s 1ms/step - loss: 0.4478 - accuracy: 0.7960\n",
      "Epoch 3/101\n",
      "250/250 [==============================] - 0s 1ms/step - loss: 0.4405 - accuracy: 0.7960\n",
      "Epoch 4/101\n",
      "250/250 [==============================] - 0s 1ms/step - loss: 0.4357 - accuracy: 0.7955\n",
      "Epoch 5/101\n",
      "250/250 [==============================] - 0s 1ms/step - loss: 0.4312 - accuracy: 0.7939\n",
      "Epoch 6/101\n",
      "250/250 [==============================] - 0s 1ms/step - loss: 0.4259 - accuracy: 0.8014\n",
      "Epoch 7/101\n",
      "250/250 [==============================] - 0s 1ms/step - loss: 0.4187 - accuracy: 0.8089\n",
      "Epoch 8/101\n",
      "250/250 [==============================] - 0s 1ms/step - loss: 0.4127 - accuracy: 0.8126\n",
      "Epoch 9/101\n",
      "250/250 [==============================] - 0s 1ms/step - loss: 0.4079 - accuracy: 0.8158\n",
      "Epoch 10/101\n",
      "250/250 [==============================] - 0s 1ms/step - loss: 0.4041 - accuracy: 0.8170\n",
      "Epoch 11/101\n",
      "250/250 [==============================] - 0s 1ms/step - loss: 0.4008 - accuracy: 0.8201\n",
      "Epoch 12/101\n",
      "250/250 [==============================] - 0s 1ms/step - loss: 0.3973 - accuracy: 0.8224\n",
      "Epoch 13/101\n",
      "250/250 [==============================] - 0s 1ms/step - loss: 0.3946 - accuracy: 0.8216\n",
      "Epoch 14/101\n",
      "250/250 [==============================] - 0s 1ms/step - loss: 0.3912 - accuracy: 0.8236\n",
      "Epoch 15/101\n",
      "250/250 [==============================] - 0s 1ms/step - loss: 0.3884 - accuracy: 0.8227\n",
      "Epoch 16/101\n",
      "250/250 [==============================] - 0s 1ms/step - loss: 0.3859 - accuracy: 0.8256\n",
      "Epoch 17/101\n",
      "250/250 [==============================] - 0s 1ms/step - loss: 0.3838 - accuracy: 0.8259\n",
      "Epoch 18/101\n",
      "250/250 [==============================] - 0s 1ms/step - loss: 0.3825 - accuracy: 0.8248\n",
      "Epoch 19/101\n",
      "250/250 [==============================] - 0s 1ms/step - loss: 0.3810 - accuracy: 0.8253\n",
      "Epoch 20/101\n",
      "250/250 [==============================] - 0s 1ms/step - loss: 0.3793 - accuracy: 0.8264\n",
      "Epoch 21/101\n",
      "250/250 [==============================] - 0s 1ms/step - loss: 0.3783 - accuracy: 0.8260\n",
      "Epoch 22/101\n",
      "250/250 [==============================] - 0s 1ms/step - loss: 0.3774 - accuracy: 0.8263\n",
      "Epoch 23/101\n",
      "250/250 [==============================] - 0s 1ms/step - loss: 0.3761 - accuracy: 0.8344\n",
      "Epoch 24/101\n",
      "250/250 [==============================] - 0s 1ms/step - loss: 0.3751 - accuracy: 0.8391\n",
      "Epoch 25/101\n",
      "250/250 [==============================] - 0s 1ms/step - loss: 0.3741 - accuracy: 0.8401\n",
      "Epoch 26/101\n",
      "250/250 [==============================] - 0s 1ms/step - loss: 0.3728 - accuracy: 0.8394\n",
      "Epoch 27/101\n",
      "250/250 [==============================] - 0s 1ms/step - loss: 0.3722 - accuracy: 0.8403\n",
      "Epoch 28/101\n",
      "250/250 [==============================] - 0s 2ms/step - loss: 0.3705 - accuracy: 0.8401\n",
      "Epoch 29/101\n",
      "250/250 [==============================] - 0s 2ms/step - loss: 0.3698 - accuracy: 0.8416\n",
      "Epoch 30/101\n",
      "250/250 [==============================] - 0s 1ms/step - loss: 0.3692 - accuracy: 0.8414\n",
      "Epoch 31/101\n",
      "250/250 [==============================] - 0s 1ms/step - loss: 0.3688 - accuracy: 0.8416\n",
      "Epoch 32/101\n",
      "250/250 [==============================] - 0s 1ms/step - loss: 0.3680 - accuracy: 0.8434\n",
      "Epoch 33/101\n",
      "250/250 [==============================] - 0s 1ms/step - loss: 0.3671 - accuracy: 0.8436\n",
      "Epoch 34/101\n",
      "250/250 [==============================] - 0s 2ms/step - loss: 0.3659 - accuracy: 0.8443\n",
      "Epoch 35/101\n",
      "250/250 [==============================] - 0s 1ms/step - loss: 0.3654 - accuracy: 0.8432\n",
      "Epoch 36/101\n",
      "250/250 [==============================] - 0s 1ms/step - loss: 0.3652 - accuracy: 0.8446\n",
      "Epoch 37/101\n",
      "250/250 [==============================] - 0s 1ms/step - loss: 0.3639 - accuracy: 0.8461\n",
      "Epoch 38/101\n",
      "250/250 [==============================] - 0s 1ms/step - loss: 0.3631 - accuracy: 0.8466\n",
      "Epoch 39/101\n",
      "250/250 [==============================] - 0s 1ms/step - loss: 0.3624 - accuracy: 0.8449\n",
      "Epoch 40/101\n",
      "250/250 [==============================] - 0s 1ms/step - loss: 0.3621 - accuracy: 0.8471\n",
      "Epoch 41/101\n",
      "250/250 [==============================] - 0s 1ms/step - loss: 0.3605 - accuracy: 0.8471\n",
      "Epoch 42/101\n",
      "250/250 [==============================] - 0s 1ms/step - loss: 0.3594 - accuracy: 0.8489\n",
      "Epoch 43/101\n",
      "250/250 [==============================] - 0s 1ms/step - loss: 0.3589 - accuracy: 0.8468\n",
      "Epoch 44/101\n",
      "250/250 [==============================] - 0s 1ms/step - loss: 0.3578 - accuracy: 0.8495\n",
      "Epoch 45/101\n",
      "250/250 [==============================] - 0s 1ms/step - loss: 0.3576 - accuracy: 0.8508\n",
      "Epoch 46/101\n",
      "250/250 [==============================] - 0s 1ms/step - loss: 0.3565 - accuracy: 0.8519\n",
      "Epoch 47/101\n",
      "250/250 [==============================] - 0s 1ms/step - loss: 0.3559 - accuracy: 0.8518\n",
      "Epoch 48/101\n",
      "250/250 [==============================] - 0s 1ms/step - loss: 0.3549 - accuracy: 0.8521\n",
      "Epoch 49/101\n",
      "250/250 [==============================] - 0s 1ms/step - loss: 0.3542 - accuracy: 0.8524\n",
      "Epoch 50/101\n",
      "250/250 [==============================] - 0s 1ms/step - loss: 0.3542 - accuracy: 0.8535\n",
      "Epoch 51/101\n",
      "250/250 [==============================] - 0s 1ms/step - loss: 0.3531 - accuracy: 0.8553\n",
      "Epoch 52/101\n",
      "250/250 [==============================] - 0s 1ms/step - loss: 0.3532 - accuracy: 0.8555\n",
      "Epoch 53/101\n",
      "250/250 [==============================] - 0s 1ms/step - loss: 0.3520 - accuracy: 0.8522\n",
      "Epoch 54/101\n",
      "250/250 [==============================] - 0s 1ms/step - loss: 0.3516 - accuracy: 0.8553\n",
      "Epoch 55/101\n",
      "250/250 [==============================] - 0s 1ms/step - loss: 0.3510 - accuracy: 0.8568\n",
      "Epoch 56/101\n",
      "250/250 [==============================] - 0s 1ms/step - loss: 0.3498 - accuracy: 0.8537\n",
      "Epoch 57/101\n",
      "250/250 [==============================] - 0s 1ms/step - loss: 0.3501 - accuracy: 0.8554\n",
      "Epoch 58/101\n",
      "250/250 [==============================] - 0s 1ms/step - loss: 0.3494 - accuracy: 0.8565\n",
      "Epoch 59/101\n",
      "250/250 [==============================] - 0s 1ms/step - loss: 0.3489 - accuracy: 0.8551\n",
      "Epoch 60/101\n",
      "250/250 [==============================] - 0s 1ms/step - loss: 0.3477 - accuracy: 0.8581\n",
      "Epoch 61/101\n",
      "250/250 [==============================] - 0s 1ms/step - loss: 0.3480 - accuracy: 0.8589\n",
      "Epoch 62/101\n",
      "250/250 [==============================] - 0s 1ms/step - loss: 0.3477 - accuracy: 0.8581\n",
      "Epoch 63/101\n",
      "250/250 [==============================] - 0s 1ms/step - loss: 0.3472 - accuracy: 0.8575\n",
      "Epoch 64/101\n",
      "250/250 [==============================] - 0s 1ms/step - loss: 0.3467 - accuracy: 0.8571\n",
      "Epoch 65/101\n",
      "250/250 [==============================] - 0s 1ms/step - loss: 0.3464 - accuracy: 0.8580\n",
      "Epoch 66/101\n",
      "250/250 [==============================] - 0s 1ms/step - loss: 0.3460 - accuracy: 0.8585\n",
      "Epoch 67/101\n",
      "250/250 [==============================] - 0s 1ms/step - loss: 0.3463 - accuracy: 0.8564\n",
      "Epoch 68/101\n",
      "250/250 [==============================] - 0s 1ms/step - loss: 0.3454 - accuracy: 0.8589\n",
      "Epoch 69/101\n",
      "250/250 [==============================] - 0s 1ms/step - loss: 0.3452 - accuracy: 0.8568\n",
      "Epoch 70/101\n",
      "250/250 [==============================] - 0s 1ms/step - loss: 0.3443 - accuracy: 0.8583\n",
      "Epoch 71/101\n",
      "250/250 [==============================] - 0s 1ms/step - loss: 0.3452 - accuracy: 0.8591\n",
      "Epoch 72/101\n",
      "250/250 [==============================] - 0s 1ms/step - loss: 0.3444 - accuracy: 0.8576\n",
      "Epoch 73/101\n",
      "250/250 [==============================] - 0s 1ms/step - loss: 0.3439 - accuracy: 0.8580\n",
      "Epoch 74/101\n",
      "250/250 [==============================] - 0s 1ms/step - loss: 0.3435 - accuracy: 0.8586\n",
      "Epoch 75/101\n",
      "250/250 [==============================] - 0s 1ms/step - loss: 0.3434 - accuracy: 0.8580\n",
      "Epoch 76/101\n",
      "250/250 [==============================] - 0s 1ms/step - loss: 0.3436 - accuracy: 0.8593\n",
      "Epoch 77/101\n",
      "250/250 [==============================] - 0s 1ms/step - loss: 0.3433 - accuracy: 0.8589\n",
      "Epoch 78/101\n",
      "250/250 [==============================] - 0s 1ms/step - loss: 0.3427 - accuracy: 0.8599\n",
      "Epoch 79/101\n",
      "250/250 [==============================] - 0s 1ms/step - loss: 0.3422 - accuracy: 0.8591\n",
      "Epoch 80/101\n",
      "250/250 [==============================] - 0s 1ms/step - loss: 0.3427 - accuracy: 0.8595\n",
      "Epoch 81/101\n",
      "250/250 [==============================] - 0s 1ms/step - loss: 0.3415 - accuracy: 0.8609\n",
      "Epoch 82/101\n",
      "250/250 [==============================] - 0s 1ms/step - loss: 0.3420 - accuracy: 0.8599\n",
      "Epoch 83/101\n",
      "250/250 [==============================] - 0s 1ms/step - loss: 0.3425 - accuracy: 0.8614\n",
      "Epoch 84/101\n",
      "250/250 [==============================] - 0s 1ms/step - loss: 0.3423 - accuracy: 0.8590\n",
      "Epoch 85/101\n",
      "250/250 [==============================] - 0s 1ms/step - loss: 0.3417 - accuracy: 0.8601\n",
      "Epoch 86/101\n",
      "250/250 [==============================] - 0s 1ms/step - loss: 0.3419 - accuracy: 0.8602\n",
      "Epoch 87/101\n",
      "250/250 [==============================] - 0s 1ms/step - loss: 0.3419 - accuracy: 0.8594\n",
      "Epoch 88/101\n",
      "250/250 [==============================] - 0s 1ms/step - loss: 0.3417 - accuracy: 0.8615\n",
      "Epoch 89/101\n",
      "250/250 [==============================] - 0s 1ms/step - loss: 0.3413 - accuracy: 0.8589\n",
      "Epoch 90/101\n",
      "250/250 [==============================] - 0s 1ms/step - loss: 0.3419 - accuracy: 0.8600\n",
      "Epoch 91/101\n",
      "250/250 [==============================] - 0s 1ms/step - loss: 0.3406 - accuracy: 0.8587\n",
      "Epoch 92/101\n",
      "250/250 [==============================] - 0s 1ms/step - loss: 0.3411 - accuracy: 0.8595\n",
      "Epoch 93/101\n",
      "250/250 [==============================] - 0s 1ms/step - loss: 0.3407 - accuracy: 0.8589\n",
      "Epoch 94/101\n",
      "250/250 [==============================] - 0s 1ms/step - loss: 0.3411 - accuracy: 0.8608\n",
      "Epoch 95/101\n",
      "250/250 [==============================] - 0s 1ms/step - loss: 0.3409 - accuracy: 0.8581\n",
      "Epoch 96/101\n",
      "250/250 [==============================] - 0s 1ms/step - loss: 0.3409 - accuracy: 0.8627\n",
      "Epoch 97/101\n",
      "250/250 [==============================] - 0s 1ms/step - loss: 0.3405 - accuracy: 0.8597\n",
      "Epoch 98/101\n",
      "250/250 [==============================] - 0s 1ms/step - loss: 0.3418 - accuracy: 0.8590\n",
      "Epoch 99/101\n",
      "250/250 [==============================] - 0s 1ms/step - loss: 0.3402 - accuracy: 0.8612\n",
      "Epoch 100/101\n",
      "250/250 [==============================] - 0s 1ms/step - loss: 0.3403 - accuracy: 0.8609\n",
      "Epoch 101/101\n",
      "250/250 [==============================] - 0s 1ms/step - loss: 0.3400 - accuracy: 0.8620\n"
     ]
    },
    {
     "data": {
      "text/plain": [
       "<tensorflow.python.keras.callbacks.History at 0x7f1a503679e8>"
      ]
     },
     "execution_count": 7,
     "metadata": {},
     "output_type": "execute_result"
    }
   ],
   "source": [
    "# Build and train the model\n",
    "ann = build_ann(5, 'relu', 1, 'sigmoid', 'adam', 'binary_crossentropy', ['accuracy'])\n",
    "ann.fit(x_train, y_train, batch_size = 32, epochs = 101)"
   ]
  },
  {
   "cell_type": "markdown",
   "metadata": {
    "colab_type": "text",
    "id": "tJj5k2MxZga3",
    "tags": []
   },
   "source": [
    "## Part 4 - Making the predictions and evaluating the model"
   ]
  },
  {
   "cell_type": "markdown",
   "metadata": {
    "colab_type": "text",
    "id": "84QFoqGYeXHL",
    "tags": []
   },
   "source": [
    "### Predicting the result of a single observation"
   ]
  },
  {
   "cell_type": "markdown",
   "metadata": {
    "colab_type": "text",
    "id": "CGRo3eacgDdC",
    "tags": []
   },
   "source": [
    "**Homework**\n",
    "\n",
    "Use our ANN model to predict if the customer with the following informations will leave the bank: \n",
    "\n",
    "Geography: France\n",
    "\n",
    "Credit Score: 600\n",
    "\n",
    "Gender: Male\n",
    "\n",
    "Age: 40 years old\n",
    "\n",
    "Tenure: 3 years\n",
    "\n",
    "Balance: \\$ 60000\n",
    "\n",
    "Number of Products: 2\n",
    "\n",
    "Does this customer have a credit card? Yes\n",
    "\n",
    "Is this customer an Active Member: Yes\n",
    "\n",
    "Estimated Salary: \\$ 50000\n",
    "\n",
    "So, should we say goodbye to that customer?"
   ]
  },
  {
   "cell_type": "markdown",
   "metadata": {
    "colab_type": "text",
    "id": "ZhU1LTgPg-kH",
    "tags": []
   },
   "source": [
    "**Solution**"
   ]
  },
  {
   "cell_type": "code",
   "execution_count": 136,
   "metadata": {
    "tags": [
     "block:prediction",
     "prev:build_ann"
    ]
   },
   "outputs": [
    {
     "name": "stdout",
     "output_type": "stream",
     "text": [
      "[[False]]\n",
      "[[0 0]\n",
      " [0 1]\n",
      " [0 0]\n",
      " ...\n",
      " [0 0]\n",
      " [0 0]\n",
      " [0 0]]\n"
     ]
    }
   ],
   "source": [
    "# Any input for a the prediction method should be a 2D array\n",
    "# You also have to standardize the input by calling sc.transform()\n",
    "# You could use something like > 0.5 to give a straight answer based on the prediction\n",
    "print(ann.predict(sc.transform([[1, 0, 0, 600, 1, 40, 3, 60000, 2, 1, 1, 50000]])) > 0.5)\n",
    "\n",
    "y_pred = ann.predict(x_test)\n",
    "y_pred = (y_pred > 0.5)\n",
    "print(np.concatenate((y_pred.reshape(len(y_pred),1), y_test.reshape(len(y_test), 1)),1))"
   ]
  },
  {
   "cell_type": "markdown",
   "metadata": {
    "colab_type": "text",
    "id": "wGjx94g2n7OV",
    "tags": []
   },
   "source": [
    "Therefore, our ANN model predicts that this customer stays in the bank!\n",
    "\n",
    "**Important note 1:** Notice that the values of the features were all input in a double pair of square brackets. That's because the \"predict\" method always expects a 2D array as the format of its inputs. And putting our values into a double pair of square brackets makes the input exactly a 2D array.\n",
    "\n",
    "**Important note 2:** Notice also that the \"France\" country was not input as a string in the last column but as \"1, 0, 0\" in the first three columns. That's because of course the predict method expects the one-hot-encoded values of the state, and as we see in the first row of the matrix of features X, \"France\" was encoded as \"1, 0, 0\". And be careful to include these values in the first three columns, because the dummy variables are always created in the first columns."
   ]
  },
  {
   "cell_type": "markdown",
   "metadata": {
    "colab_type": "text",
    "id": "u7yx47jPZt11",
    "tags": []
   },
   "source": [
    "### Predicting the Test set results"
   ]
  },
  {
   "cell_type": "markdown",
   "metadata": {
    "colab_type": "text",
    "id": "o0oyfLWoaEGw",
    "tags": []
   },
   "source": [
    "### Making the Confusion Matrix"
   ]
  },
  {
   "cell_type": "code",
   "execution_count": 137,
   "metadata": {
    "tags": [
     "block:confusion_matrix",
     "prev:prediction"
    ]
   },
   "outputs": [
    {
     "name": "stdout",
     "output_type": "stream",
     "text": [
      "[[1515   80]\n",
      " [ 192  213]]\n"
     ]
    },
    {
     "data": {
      "text/plain": [
       "0.864"
      ]
     },
     "execution_count": 137,
     "metadata": {},
     "output_type": "execute_result"
    }
   ],
   "source": [
    "# Confusion matrix tells you how many predictions from the model were correct\n",
    "# The model correctly predicted that 1529 would stay in the bank and incorrectly predicted that 66 would stay\n",
    "# The model correctly predicted that 200 would leave the bank and incorrectly predicted that 205 would stay\n",
    "cm = confMat(y_test, y_pred)\n",
    "print(cm)\n",
    "accuracy_score(y_test, y_pred)"
   ]
  }
 ],
 "metadata": {
  "colab": {
   "authorship_tag": "ABX9TyMeRFWFoGrdaL5S3dx5MWmb",
   "collapsed_sections": [],
   "name": "artificial_neural_network.ipynb",
   "provenance": [],
   "toc_visible": true
  },
  "kernelspec": {
   "display_name": "Python 3",
   "language": "python",
   "name": "python3"
  },
  "kubeflow_notebook": {
   "autosnapshot": true,
   "docker_image": "gcr.io/arrikto/jupyter-kale:v0.5.0-47-g2427cc9",
   "experiment": {
    "id": "new",
    "name": "ownmodel1"
   },
   "experiment_name": "ownmodel1",
   "katib_metadata": {
    "algorithm": {
     "algorithmName": "grid"
    },
    "maxFailedTrialCount": 3,
    "maxTrialCount": 12,
    "objective": {
     "objectiveMetricName": "",
     "type": "minimize"
    },
    "parallelTrialCount": 3,
    "parameters": []
   },
   "katib_run": false,
   "pipeline_description": "",
   "pipeline_name": "ann1",
   "snapshot_volumes": true,
   "steps_defaults": [
    "label:access-ml-pipeline:true",
    "label:access-rok:true"
   ],
   "volumes": [
    {
     "annotations": [],
     "mount_point": "/home/jovyan",
     "name": "workspace-pipeline-test-h5154ulq0",
     "size": 5,
     "size_type": "Gi",
     "snapshot": false,
     "type": "clone"
    }
   ]
  },
  "language_info": {
   "codemirror_mode": {
    "name": "ipython",
    "version": 3
   },
   "file_extension": ".py",
   "mimetype": "text/x-python",
   "name": "python",
   "nbconvert_exporter": "python",
   "pygments_lexer": "ipython3",
   "version": "3.6.9"
  }
 },
 "nbformat": 4,
 "nbformat_minor": 4
}
